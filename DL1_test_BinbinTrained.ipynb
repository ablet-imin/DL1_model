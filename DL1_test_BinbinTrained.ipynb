{
 "cells": [
  {
   "cell_type": "code",
   "execution_count": 1,
   "metadata": {},
   "outputs": [
    {
     "name": "stdout",
     "output_type": "stream",
     "text": [
      "[ True  True  True ... False  True False]\n"
     ]
    }
   ],
   "source": [
    "import tensorflow as tf\n",
    "import tensorflow.keras as keras\n",
    "import tensorflow_addons as tfa\n",
    "from tensorflow.keras.callbacks import Callback, ReduceLROnPlateau\n",
    "\n",
    "import matplotlib\n",
    "import matplotlib.pyplot as plt\n",
    "\n",
    "import numpy as np\n",
    "import h5py\n",
    "\n",
    "#model_file = \"DL1_AntiKt4EMTopo_dropout\" if dropout_enable else \"DL1_AntiKt4EMTopo\"\n",
    "import models.rebuild_DL1 as DL1\n",
    "from util import (DL1_score, plot_prob_score, plot_prob_score_from_model,\n",
    "                  get_mean_score, momentum_space, efficiecy_mean_std)\n",
    "    \n",
    "def load_trained(model_weight):\n",
    "    import models.binbin_model as binbin_model\n",
    "    test_model = binbin_model.DL1_model(InputShape=44, training=False)\n",
    "    test_model_Dropout = binbin_model.DL1_model(InputShape=44, training=True)\n",
    "    test_model.load_weights(model_weight)\n",
    "    test_model_Dropout.load_weights(model_weight)\n",
    "    return test_model, test_model_Dropout\n",
    "\n",
    "def data_category(data, label,category='b'):\n",
    "    #1 is b, 2 is c, 4 is light\n",
    "    label_binary = {'b':2, 'c':1, 'l':0}\n",
    "    label_index = label_binary[category]\n",
    "    label_filter = (label[:,label_index]==1)\n",
    "    print(label_filter)\n",
    "    return data[label_filter], label[label_filter]\n",
    "    \n",
    "    \n",
    "#get test dataset\n",
    "hf = h5py.File(\"/Users/abletimin/cernbox/b-tagg/btagging-ml_tutorial_files/MC16d_ttbar-test-validation_sample-NN.h5\", 'r')\n",
    "X_test, Y_test = hf['X_test'][:], hf['Y_test'][:]\n",
    "hf.close()\n",
    "\n",
    "X_test, Y_test = data_category(X_test, Y_test,category='b')\n"
   ]
  },
  {
   "cell_type": "markdown",
   "metadata": {},
   "source": [
    "## import model\n"
   ]
  },
  {
   "cell_type": "code",
   "execution_count": 2,
   "metadata": {},
   "outputs": [],
   "source": [
    "trained_weight=\"/Users/abletimin/cernbox/b-tagg/trainedModel/DL1r_hybrid_50epochs_3600batch.h5\"\n",
    "model, model_dropout =load_trained(model_weight=trained_weight)"
   ]
  },
  {
   "cell_type": "code",
   "execution_count": null,
   "metadata": {},
   "outputs": [
    {
     "name": "stderr",
     "output_type": "stream",
     "text": [
      "/Users/abletimin/work/ATLAS/b-tagg/DL1_model/util/tools.py:19: RuntimeWarning: overflow encountered in log\n",
      "  return np.log(pb/(0.08*pc + 0.92*pl))\n"
     ]
    }
   ],
   "source": [
    "scores = get_mean_score(X_test, model_dropout, 5000)"
   ]
  },
  {
   "cell_type": "code",
   "execution_count": null,
   "metadata": {},
   "outputs": [],
   "source": []
  }
 ],
 "metadata": {
  "kernelspec": {
   "display_name": "Python 3",
   "language": "python",
   "name": "python3"
  },
  "language_info": {
   "codemirror_mode": {
    "name": "ipython",
    "version": 3
   },
   "file_extension": ".py",
   "mimetype": "text/x-python",
   "name": "python",
   "nbconvert_exporter": "python",
   "pygments_lexer": "ipython3",
   "version": "3.8.5"
  }
 },
 "nbformat": 4,
 "nbformat_minor": 4
}
