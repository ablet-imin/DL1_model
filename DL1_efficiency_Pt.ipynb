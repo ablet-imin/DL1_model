{
 "cells": [
  {
   "cell_type": "code",
   "execution_count": 23,
   "metadata": {},
   "outputs": [],
   "source": [
    "import numpy as np\n",
    "\n",
    "import tensorflow as tf\n",
    "import tensorflow.keras as keras\n",
    "import tensorflow_addons as tfa\n",
    "#from keras.layers.core import MaxoutDense\n",
    "from models.maxout_layers import Maxout1D\n",
    "\n",
    "#dropout_enable = False\n",
    "\n",
    "#model_file = \"DL1_AntiKt4EMTopo_dropout\" if dropout_enable else \"DL1_AntiKt4EMTopo\"\n",
    "import models.rebuild_DL1 as DL1\n",
    "\n",
    "#model = tf.keras.models.load_model(\"DL1_AntiKt4EMTopo\")\n",
    "#model_dropout = tf.keras.models.load_model(\"DL1_AntiKt4EMTopo_dropout\")\n",
    "#test_model.summary()\n",
    "\n",
    "#filename.root:Tdirectory/directory/obj\n",
    "File_path=\"BTagCalibRUN2-08-40.root:DL1/AntiKt4EMTopo/net_configuration\"\n",
    "\n",
    "DL1_struct = DL1.get_net_struct(File_path)\n",
    "DL1_weights = DL1_struct['layers']\n",
    "\n",
    "#DL1_layers = [ 72, 57, 60, 48, 36,24, 12, 6]\n",
    "DL1_dropouts = [0.1, 0.2, 0.2, 0.2, 0.2, 0.2, 0.2, 0.2]\n",
    "\n",
    "#findout input size, and weight matrix for each layer.\n",
    "#create corresponding tensorflow layers and store them in a list.\n",
    "features, dl1_layers, dl1_weights = DL1.pars_layers(DL1_struct['layers'])\n",
    "\n",
    "model = DL1.get_DL1(features , dl1_layers, drops=None )\n",
    "model_dropout = DL1.get_DL1(features , dl1_layers, drops=DL1_dropouts )\n",
    "#model.summary()\n",
    "DL1.set_dl1_weights(model=model, weights=dl1_weights)\n",
    "DL1.set_dl1_weights(model=model_dropout, weights=dl1_weights)\n",
    "\n",
    "import h5py\n",
    "#get test dataset\n",
    "hf = h5py.File(\"/Users/abletimin/cernbox/b-tagg/MC16_ttbar-test-even-bjets.h5\", 'r')\n",
    "X_test, Y_test = hf['X_test'][:10000], hf['Y_test'][:10000]\n",
    "hf.close()\n",
    "\n",
    "def DL1_socre(pb, pc, pl): \n",
    "    return np.log(pb/(0.08*pc + 0.92*pl))\n",
    "\n",
    "def plot_prob_score(pb, pc, pl, DL1_socre, range=(0,1)):\n",
    "    fig, (ax1, ax2) = plt.subplots(1, 2, figsize=(12, 4))\n",
    "    _n, bins, _ = ax1.hist(pb, bins=50, range=range, alpha=0.5, label=\"p_b\")\n",
    "    _ = ax1.hist(pc, bins=bins, alpha=0.5, label=\"p_c\")\n",
    "    _ = ax1.hist(pl, bins=bins, alpha=0.5, label=\"p_l\")\n",
    "    ax1.legend(loc=\"upper right\")\n",
    "    \n",
    "    _ =ax2.hist(DL1_socre(pb, pc, pl), 100, alpha=0.6)\n",
    "    \n",
    "def get_mean_score(X_test, model):\n",
    "    def _mean_score(inputs):\n",
    "        result_prob = model(np.array(100*[inputs]), training=False).numpy()\n",
    "        result = DL1_socre(result_prob[:,2], result_prob[:,1], result_prob[:,0])\n",
    "        return result.mean(), result.std()\n",
    "\n",
    "    return np.apply_along_axis(_mean_score,1, X_test)"
   ]
  },
  {
   "cell_type": "code",
   "execution_count": 24,
   "metadata": {},
   "outputs": [
    {
     "name": "stderr",
     "output_type": "stream",
     "text": [
      "<ipython-input-23-342f5e04f1d6>:44: RuntimeWarning: overflow encountered in log\n",
      "  return np.log(pb/(0.08*pc + 0.92*pl))\n"
     ]
    }
   ],
   "source": [
    "re_dropout = model_dropout(np.array(10000*[X_test[9]]), training=False).numpy()\n",
    "\n",
    "#no dropout\n",
    "re = model(X_test, training=False).numpy()\n",
    "\n",
    "mean_score = get_mean_score(X_test, model_dropout)"
   ]
  },
  {
   "cell_type": "code",
   "execution_count": 25,
   "metadata": {},
   "outputs": [],
   "source": [
    "score = DL1_socre(re[:,2],re[:,1], re[:,0])"
   ]
  },
  {
   "cell_type": "code",
   "execution_count": 29,
   "metadata": {},
   "outputs": [],
   "source": [
    "Hpretag_jetPt, bins = np.histogram(X_test[:,1], 20)\n",
    "\n",
    "#btagging\n",
    "Htagged_jetPt, _ = np.histogram( X_test[(score>1.45)][:,1], bins=bins)\n",
    "\n",
    "#btagging\n",
    "Htagged_jetPt_mean, _ = np.histogram( X_test[(mean_score[:,0]>1.45)][:,1], bins=bins)"
   ]
  },
  {
   "cell_type": "code",
   "execution_count": 34,
   "metadata": {},
   "outputs": [
    {
     "name": "stderr",
     "output_type": "stream",
     "text": [
      "<ipython-input-34-0ede8bd5a8da>:4: RuntimeWarning: invalid value encountered in true_divide\n",
      "  plt.plot(bins[:-1], Htagged_jetPt/Hpretag_jetPt, \"r*\")\n",
      "<ipython-input-34-0ede8bd5a8da>:5: RuntimeWarning: invalid value encountered in true_divide\n",
      "  plt.plot(bins[:-1], Htagged_jetPt_mean/Hpretag_jetPt, \"b.\")\n"
     ]
    },
    {
     "data": {
      "text/plain": [
       "[<matplotlib.lines.Line2D at 0x7fe8191782e0>]"
      ]
     },
     "execution_count": 34,
     "metadata": {},
     "output_type": "execute_result"
    },
    {
     "data": {
      "image/png": "[encoded data removed]",
      "text/plain": [
       "<Figure size 432x288 with 1 Axes>"
      ]
     },
     "metadata": {
      "needs_background": "light"
     },
     "output_type": "display_data"
    }
   ],
   "source": [
    "import matplotlib\n",
    "import matplotlib.pyplot as plt\n",
    "\n",
    "plt.plot(bins[:-1], Htagged_jetPt/Hpretag_jetPt, \"r*\")\n",
    "plt.plot(bins[:-1], Htagged_jetPt_mean/Hpretag_jetPt, \"b.\")"
   ]
  },
  {
   "cell_type": "code",
   "execution_count": 28,
   "metadata": {},
   "outputs": [
    {
     "data": {
      "text/plain": [
       "array([[0.20071533, 0.28136128],\n",
       "       [4.1484027 , 1.6845444 ],\n",
       "       [6.2652006 , 2.3801525 ],\n",
       "       ...,\n",
       "       [4.9414253 , 2.1422412 ],\n",
       "       [6.240187  , 2.6617453 ],\n",
       "       [0.8301285 , 0.87456286]], dtype=float32)"
      ]
     },
     "execution_count": 28,
     "metadata": {},
     "output_type": "execute_result"
    }
   ],
   "source": [
    "mean_score"
   ]
  },
  {
   "cell_type": "code",
   "execution_count": null,
   "metadata": {},
   "outputs": [],
   "source": []
  }
 ],
 "metadata": {
  "kernelspec": {
   "display_name": "Python 3",
   "language": "python",
   "name": "python3"
  },
  "language_info": {
   "codemirror_mode": {
    "name": "ipython",
    "version": 3
   },
   "file_extension": ".py",
   "mimetype": "text/x-python",
   "name": "python",
   "nbconvert_exporter": "python",
   "pygments_lexer": "ipython3",
   "version": "3.8.5"
  }
 },
 "nbformat": 4,
 "nbformat_minor": 4
}
