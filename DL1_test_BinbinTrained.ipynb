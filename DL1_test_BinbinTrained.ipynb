{
 "cells": [
  {
   "cell_type": "code",
   "execution_count": 41,
   "metadata": {},
   "outputs": [
    {
     "name": "stdout",
     "output_type": "stream",
     "text": [
      "<KeysViewHDF5 ['X_test', 'X_trk_test', 'Y_test', 'labels', 'pt_eta']>\n",
      "Total number of events:  100000\n"
     ]
    }
   ],
   "source": [
    "import tensorflow as tf\n",
    "import tensorflow.keras as keras\n",
    "import tensorflow_addons as tfa\n",
    "from tensorflow.keras.callbacks import Callback, ReduceLROnPlateau\n",
    "\n",
    "import matplotlib\n",
    "import matplotlib.pyplot as plt\n",
    "\n",
    "import numpy as np\n",
    "import h5py\n",
    "\n",
    "def DL1_score(pb, pc, pl): \n",
    "    return np.log(pb/(0.08*pc + 0.92*pl))\n",
    "\n",
    "def plot_prob_score(pb, pc, pl):\n",
    "    fig, (ax1, ax2) = plt.subplots(1, 2, figsize=(12, 4))\n",
    "    _n, bins, _ = ax1.hist(pb, bins=50, range=(0,1), alpha=0.5, label=\"p_b\")\n",
    "    _ = ax1.hist(pc, bins=bins, alpha=0.5, label=\"p_c\")\n",
    "    _ = ax1.hist(pl, bins=bins, alpha=0.5, label=\"p_l\")\n",
    "    ax1.legend(loc=\"upper right\")\n",
    "    \n",
    "    _ =ax2.hist(DL1_score(pb, pc, pl), 100, alpha=0.6)\n",
    "\n",
    "def plot_prob_score_from_model(event,label, model):\n",
    "    \n",
    "    Single_Pred_prob = model(np.array(10000*[event]))\n",
    "    pb = Single_Pred_prob[:,2].numpy()\n",
    "    pc = Single_Pred_prob[:,1].numpy()\n",
    "    pl = Single_Pred_prob[:,0].numpy()\n",
    "    print(\"true label: \", label)\n",
    "    \n",
    "    fig, (ax1, ax2) = plt.subplots(1, 2, figsize=(12, 4))\n",
    "    _n, bins, _ = ax1.hist(pb, bins=50, range=(0,1),  alpha=0.5, label=\"p_b\")\n",
    "    _ = ax1.hist(pc, bins=bins,  alpha=0.5, label=\"p_c\")\n",
    "    _ = ax1.hist(pl, bins=bins,  alpha=0.5, label=\"p_l\")\n",
    "    ax1.legend(loc=\"upper right\")\n",
    "    \n",
    "    _ =ax2.hist(DL1_socre(pb, pc, pl), 100,  alpha=0.6)\n",
    "\n",
    "def efficiency(score, wp=1.0):\n",
    "    return np.sum(score>wp)/len(score)\n",
    "\n",
    "def get_mean_score(X_test, model):\n",
    "    def _mean_score(inputs):\n",
    "        result_prob = model(np.array(10000*[inputs]), training=False).numpy()\n",
    "        result = DL1_score(result_prob[:,2], result_prob[:,1], result_prob[:,0])\n",
    "        return result.mean(), result.std()\n",
    "\n",
    "    return np.apply_along_axis(_mean_score,1, X_test)\n",
    "    \n",
    "\n",
    "    \n",
    "hf = h5py.File(\"/Users/abletimin/cernbox/b-tagg/btagging-ml_tutorial_files/MC16d_ttbar-test-validation_sample-NN.h5\", 'r')\n",
    "print(hf.keys())\n",
    "X_test, Y_test = hf['X_test'][:100000], hf['Y_test'][:100000]\n",
    "hf.close() \n",
    "print(\"Total number of events: \",len(X_test) )"
   ]
  },
  {
   "cell_type": "markdown",
   "metadata": {},
   "source": [
    "## import model\n"
   ]
  },
  {
   "cell_type": "code",
   "execution_count": 42,
   "metadata": {},
   "outputs": [
    {
     "name": "stdout",
     "output_type": "stream",
     "text": [
      "Acc:  0.84721\n",
      "bjet Acc:  0.84719306\n",
      "cjet Acc:  0.8471846\n",
      "ljet Acc:  0.8471846\n"
     ]
    }
   ],
   "source": [
    "DL1_model = tf.keras.models.load_model(\"/Users/abletimin/cernbox/b-tagg/Binbin/trainTtbar/DL1r_300epoch_3000batch.h5\")\n",
    "#DL1_model.summary()\n",
    "\n",
    "Pred_prob = DL1_model(X_test)\n",
    "\n",
    "#print(\"true label: \", Y_test[event])\n",
    "acc = tf.keras.metrics.CategoricalAccuracy()\n",
    "acc.update_state(Y_test, Pred_prob.numpy())\n",
    "print (\"Acc: \", acc.result().numpy())\n",
    "\n",
    "acc.update_state(Y_test[:,2], Pred_prob[:2])\n",
    "print (\"bjet Acc: \", acc.result().numpy())\n",
    "acc.update_state(Y_test[:,1], Pred_prob[:1])\n",
    "print (\"cjet Acc: \", acc.result().numpy())\n",
    "acc.update_state(Y_test[:,0], Pred_prob[:0])\n",
    "print (\"ljet Acc: \", acc.result().numpy())"
   ]
  },
  {
   "cell_type": "code",
   "execution_count": 43,
   "metadata": {},
   "outputs": [
    {
     "name": "stderr",
     "output_type": "stream",
     "text": [
      "<ipython-input-41-f17f6ae7bd88>:13: RuntimeWarning: overflow encountered in log\n",
      "  return np.log(pb/(0.08*pc + 0.92*pl))\n"
     ]
    },
    {
     "data": {
      "text/plain": [
       "0.7845535737134376"
      ]
     },
     "execution_count": 43,
     "metadata": {},
     "output_type": "execute_result"
    }
   ],
   "source": [
    "Pred_prob_pb = Pred_prob[Y_test[:,2]==1]\n",
    "efficiency( DL1_score(Pred_prob_pb[:,2], Pred_prob_pb[:,1], Pred_prob_pb[:,0]), 1.45)"
   ]
  },
  {
   "cell_type": "code",
   "execution_count": 51,
   "metadata": {},
   "outputs": [],
   "source": [
    "#10 b-jets\n",
    "import functools\n",
    "filter_b = (Y_test[:,2]==1)\n",
    "b_jets = X_test[filter_b][:10]\n",
    "\n",
    "mean_score=get_mean_score(b_jets, functools.partial(DL1_model, training=True))"
   ]
  },
  {
   "cell_type": "code",
   "execution_count": 52,
   "metadata": {},
   "outputs": [
    {
     "data": {
      "text/plain": [
       "<matplotlib.collections.PolyCollection at 0x7fe01a0563d0>"
      ]
     },
     "execution_count": 52,
     "metadata": {},
     "output_type": "execute_result"
    },
    {
     "data": {
      "image/png": "[encoded data removed]",
      "text/plain": [
       "<Figure size 432x288 with 1 Axes>"
      ]
     },
     "metadata": {
      "needs_background": "light"
     },
     "output_type": "display_data"
    }
   ],
   "source": [
    "plt.plot(range(1,11),mean_score[:,0], \"o\", color=\"black\", label=\"prediction\" )\n",
    "plt.plot(range(1,11),mean_score[:,0], \"-\", color=\"gray\" )\n",
    "plt.fill_between(range(1,11),mean_score[:,0]-mean_score[:,1], mean_score[:,0]+mean_score[:,1],\n",
    "                 color=\"gray\", label=\"prediction\", alpha=0.5 )\n"
   ]
  },
  {
   "cell_type": "code",
   "execution_count": 53,
   "metadata": {},
   "outputs": [
    {
     "data": {
      "text/plain": [
       "array([[ 8.6024456e+00,  1.9078254e-06],\n",
       "       [ 2.0875607e+00,  2.3841858e-07],\n",
       "       [ 6.8093139e-01,  5.9604645e-08],\n",
       "       [ 2.8349040e+00,  4.7683716e-07],\n",
       "       [ 1.1569463e+00,  1.1920929e-07],\n",
       "       [ 1.2308470e+01,  1.9073486e-06],\n",
       "       [ 2.2325437e+00,  0.0000000e+00],\n",
       "       [-3.0672162e+00,  2.3841858e-07],\n",
       "       [ 6.5673060e+00,  9.5353124e-07],\n",
       "       [ 9.1740742e+00,  1.9070625e-06]], dtype=float32)"
      ]
     },
     "execution_count": 53,
     "metadata": {},
     "output_type": "execute_result"
    }
   ],
   "source": [
    "mean_score"
   ]
  },
  {
   "cell_type": "code",
   "execution_count": 48,
   "metadata": {},
   "outputs": [
    {
     "name": "stdout",
     "output_type": "stream",
     "text": [
      "true label:  2\n"
     ]
    },
    {
     "ename": "NameError",
     "evalue": "name 'DL1_socre' is not defined",
     "output_type": "error",
     "traceback": [
      "\u001b[0;31m---------------------------------------------------------------------------\u001b[0m",
      "\u001b[0;31mNameError\u001b[0m                                 Traceback (most recent call last)",
      "\u001b[0;32m<ipython-input-48-c658bcad1e31>\u001b[0m in \u001b[0;36m<module>\u001b[0;34m\u001b[0m\n\u001b[0;32m----> 1\u001b[0;31m \u001b[0mplot_prob_score_from_model\u001b[0m\u001b[0;34m(\u001b[0m\u001b[0mb_jets\u001b[0m\u001b[0;34m[\u001b[0m\u001b[0;36m0\u001b[0m\u001b[0;34m]\u001b[0m\u001b[0;34m,\u001b[0m \u001b[0;36m2\u001b[0m\u001b[0;34m,\u001b[0m \u001b[0mDL1_model\u001b[0m\u001b[0;34m)\u001b[0m\u001b[0;34m\u001b[0m\u001b[0;34m\u001b[0m\u001b[0m\n\u001b[0m",
      "\u001b[0;32m<ipython-input-41-f17f6ae7bd88>\u001b[0m in \u001b[0;36mplot_prob_score_from_model\u001b[0;34m(event, label, model)\u001b[0m\n\u001b[1;32m     36\u001b[0m     \u001b[0max1\u001b[0m\u001b[0;34m.\u001b[0m\u001b[0mlegend\u001b[0m\u001b[0;34m(\u001b[0m\u001b[0mloc\u001b[0m\u001b[0;34m=\u001b[0m\u001b[0;34m\"upper right\"\u001b[0m\u001b[0;34m)\u001b[0m\u001b[0;34m\u001b[0m\u001b[0;34m\u001b[0m\u001b[0m\n\u001b[1;32m     37\u001b[0m \u001b[0;34m\u001b[0m\u001b[0m\n\u001b[0;32m---> 38\u001b[0;31m     \u001b[0m_\u001b[0m \u001b[0;34m=\u001b[0m\u001b[0max2\u001b[0m\u001b[0;34m.\u001b[0m\u001b[0mhist\u001b[0m\u001b[0;34m(\u001b[0m\u001b[0mDL1_socre\u001b[0m\u001b[0;34m(\u001b[0m\u001b[0mpb\u001b[0m\u001b[0;34m,\u001b[0m \u001b[0mpc\u001b[0m\u001b[0;34m,\u001b[0m \u001b[0mpl\u001b[0m\u001b[0;34m)\u001b[0m\u001b[0;34m,\u001b[0m \u001b[0;36m100\u001b[0m\u001b[0;34m,\u001b[0m  \u001b[0malpha\u001b[0m\u001b[0;34m=\u001b[0m\u001b[0;36m0.6\u001b[0m\u001b[0;34m)\u001b[0m\u001b[0;34m\u001b[0m\u001b[0;34m\u001b[0m\u001b[0m\n\u001b[0m\u001b[1;32m     39\u001b[0m \u001b[0;34m\u001b[0m\u001b[0m\n\u001b[1;32m     40\u001b[0m \u001b[0;32mdef\u001b[0m \u001b[0mefficiency\u001b[0m\u001b[0;34m(\u001b[0m\u001b[0mscore\u001b[0m\u001b[0;34m,\u001b[0m \u001b[0mwp\u001b[0m\u001b[0;34m=\u001b[0m\u001b[0;36m1.0\u001b[0m\u001b[0;34m)\u001b[0m\u001b[0;34m:\u001b[0m\u001b[0;34m\u001b[0m\u001b[0;34m\u001b[0m\u001b[0m\n",
      "\u001b[0;31mNameError\u001b[0m: name 'DL1_socre' is not defined"
     ]
    },
    {
     "data": {
      "image/png": "[encoded data removed]",
      "text/plain": [
       "<Figure size 864x288 with 2 Axes>"
      ]
     },
     "metadata": {
      "needs_background": "light"
     },
     "output_type": "display_data"
    }
   ],
   "source": [
    "plot_prob_score_from_model(b_jets[0], 2, DL1_model)"
   ]
  },
  {
   "cell_type": "code",
   "execution_count": null,
   "metadata": {},
   "outputs": [],
   "source": []
  }
 ],
 "metadata": {
  "kernelspec": {
   "display_name": "Python 3",
   "language": "python",
   "name": "python3"
  },
  "language_info": {
   "codemirror_mode": {
    "name": "ipython",
    "version": 3
   },
   "file_extension": ".py",
   "mimetype": "text/x-python",
   "name": "python",
   "nbconvert_exporter": "python",
   "pygments_lexer": "ipython3",
   "version": "3.8.5"
  }
 },
 "nbformat": 4,
 "nbformat_minor": 4
}
