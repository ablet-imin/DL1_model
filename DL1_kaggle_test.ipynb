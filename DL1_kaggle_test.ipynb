{
 "cells": [
  {
   "cell_type": "code",
   "execution_count": 1,
   "metadata": {},
   "outputs": [
    {
     "name": "stdout",
     "output_type": "stream",
     "text": [
      "<KeysViewHDF5 ['X_test', 'X_trk_test', 'Y_test', 'labels', 'pt_eta']>\n"
     ]
    }
   ],
   "source": [
    "import tensorflow as tf\n",
    "import tensorflow.keras as keras\n",
    "import tensorflow_addons as tfa\n",
    "from tensorflow.keras.callbacks import Callback, ReduceLROnPlateau\n",
    "\n",
    "import matplotlib\n",
    "import matplotlib.pyplot as plt\n",
    "\n",
    "import numpy as np\n",
    "import h5py\n",
    "\n",
    "hf = h5py.File(\"/Users/abletimin/cernbox/b-tagg/btagging-ml_tutorial_files/MC16d_ttbar-test-validation_sample-NN.h5\", 'r')\n",
    "print(hf.keys())\n",
    "X_test, Y_test = hf['X_test'][:100], hf['Y_test'][:100]\n",
    "hf.close() "
   ]
  },
  {
   "cell_type": "code",
   "execution_count": 2,
   "metadata": {},
   "outputs": [
    {
     "name": "stdout",
     "output_type": "stream",
     "text": [
      "Total number of events:  100\n"
     ]
    }
   ],
   "source": [
    "print(\"Total number of events: \",len(X_test) )"
   ]
  },
  {
   "cell_type": "markdown",
   "metadata": {},
   "source": [
    "## Load trained mode\n",
    "\n",
    "This model is trainin on kaggle.  "
   ]
  },
  {
   "cell_type": "code",
   "execution_count": 3,
   "metadata": {},
   "outputs": [
    {
     "name": "stdout",
     "output_type": "stream",
     "text": [
      "Model: \"model\"\n",
      "_________________________________________________________________\n",
      "Layer (type)                 Output Shape              Param #   \n",
      "=================================================================\n",
      "inputs (InputLayer)          [(None, 44)]              0         \n",
      "_________________________________________________________________\n",
      "dense0 (Dense)               (None, 72)                3240      \n",
      "_________________________________________________________________\n",
      "BN0 (BatchNormalization)     (None, 72)                288       \n",
      "_________________________________________________________________\n",
      "activ0 (Activation)          (None, 72)                0         \n",
      "_________________________________________________________________\n",
      "drop0 (Dropout)              (None, 72)                0         \n",
      "_________________________________________________________________\n",
      "dense1 (Dense)               (None, 57)                4161      \n",
      "_________________________________________________________________\n",
      "BN1 (BatchNormalization)     (None, 57)                228       \n",
      "_________________________________________________________________\n",
      "activ1 (Activation)          (None, 57)                0         \n",
      "_________________________________________________________________\n",
      "drop1 (Dropout)              (None, 57)                0         \n",
      "_________________________________________________________________\n",
      "dense2 (Dense)               (None, 60)                3480      \n",
      "_________________________________________________________________\n",
      "BN2 (BatchNormalization)     (None, 60)                240       \n",
      "_________________________________________________________________\n",
      "activ2 (Activation)          (None, 60)                0         \n",
      "_________________________________________________________________\n",
      "drop2 (Dropout)              (None, 60)                0         \n",
      "_________________________________________________________________\n",
      "dense3 (Dense)               (None, 48)                2928      \n",
      "_________________________________________________________________\n",
      "BN3 (BatchNormalization)     (None, 48)                192       \n",
      "_________________________________________________________________\n",
      "activ3 (Activation)          (None, 48)                0         \n",
      "_________________________________________________________________\n",
      "drop3 (Dropout)              (None, 48)                0         \n",
      "_________________________________________________________________\n",
      "dense4 (Dense)               (None, 36)                1764      \n",
      "_________________________________________________________________\n",
      "BN4 (BatchNormalization)     (None, 36)                144       \n",
      "_________________________________________________________________\n",
      "activ4 (Activation)          (None, 36)                0         \n",
      "_________________________________________________________________\n",
      "drop4 (Dropout)              (None, 36)                0         \n",
      "_________________________________________________________________\n",
      "dense5 (Dense)               (None, 24)                888       \n",
      "_________________________________________________________________\n",
      "BN5 (BatchNormalization)     (None, 24)                96        \n",
      "_________________________________________________________________\n",
      "activ5 (Activation)          (None, 24)                0         \n",
      "_________________________________________________________________\n",
      "drop5 (Dropout)              (None, 24)                0         \n",
      "_________________________________________________________________\n",
      "dense6 (Dense)               (None, 12)                300       \n",
      "_________________________________________________________________\n",
      "BN6 (BatchNormalization)     (None, 12)                48        \n",
      "_________________________________________________________________\n",
      "activ6 (Activation)          (None, 12)                0         \n",
      "_________________________________________________________________\n",
      "drop6 (Dropout)              (None, 12)                0         \n",
      "_________________________________________________________________\n",
      "dense7 (Dense)               (None, 6)                 78        \n",
      "_________________________________________________________________\n",
      "BN7 (BatchNormalization)     (None, 6)                 24        \n",
      "_________________________________________________________________\n",
      "activ7 (Activation)          (None, 6)                 0         \n",
      "_________________________________________________________________\n",
      "drop7 (Dropout)              (None, 6)                 0         \n",
      "_________________________________________________________________\n",
      "outputs (Dense)              (None, 3)                 21        \n",
      "=================================================================\n",
      "Total params: 18,120\n",
      "Trainable params: 17,490\n",
      "Non-trainable params: 630\n",
      "_________________________________________________________________\n"
     ]
    }
   ],
   "source": [
    "DL1_model = tf.keras.models.load_model(\"DL1_tutorial_on_kaggle.h5\")\n",
    "DL1_model.summary()\n",
    "\n",
    "DL1_half_dropout_rate = tf.keras.models.load_model(\"DL1_tutorial_on_kaggle.h5\")\n",
    "dropout_layers = ['drop%s'%i for i in range(2,8)]\n",
    "\n",
    "for layer in DL1_half_dropout_rate.layers:\n",
    "    \n",
    "    if layer.name == 'drop1':\n",
    "        layer.rate = 0.05\n",
    "    elif layer.name in dropout_layers:\n",
    "        layer.rate = 0.1"
   ]
  },
  {
   "cell_type": "markdown",
   "metadata": {},
   "source": [
    "## test model with single input\n",
    "\n",
    "evaluate a single input 10000 times, with dropout."
   ]
  },
  {
   "cell_type": "code",
   "execution_count": 4,
   "metadata": {},
   "outputs": [],
   "source": [
    "def DL1_socre(pb, pc, pl): \n",
    "    return np.log(pb/(0.018*pc + 0.982*pl))\n",
    "\n",
    "def plot_prob_score_from_model(event, model):\n",
    "    \n",
    "    Single_Pred_prob = model(np.array(10000*[X_test[event,:]]))\n",
    "    pb = Single_Pred_prob[:,2].numpy()\n",
    "    pc = Single_Pred_prob[:,1].numpy()\n",
    "    pl = Single_Pred_prob[:,0].numpy()\n",
    "    print(\"true label: \", Y_test[event])\n",
    "    print(\"softmax prob: \", Single_Pred_prob[event])\n",
    "    \n",
    "    fig, (ax1, ax2) = plt.subplots(1, 2, figsize=(12, 4))\n",
    "    _n, bins, _ = ax1.hist(pb, bins=50, range=(0,1),  alpha=0.5, label=\"p_b\")\n",
    "    _ = ax1.hist(pc, bins=bins,  alpha=0.5, label=\"p_c\")\n",
    "    _ = ax1.hist(pl, bins=bins,  alpha=0.5, label=\"p_l\")\n",
    "    ax1.legend(loc=\"upper right\")\n",
    "    \n",
    "    _ =ax2.hist(DL1_socre(pb, pc, pl), 100,  alpha=0.6)"
   ]
  },
  {
   "cell_type": "code",
   "execution_count": 5,
   "metadata": {},
   "outputs": [
    {
     "name": "stdout",
     "output_type": "stream",
     "text": [
      "true label:  [1. 0. 0.]\n",
      "softmax prob:  tf.Tensor([0.61120546 0.32360315 0.06519139], shape=(3,), dtype=float32)\n"
     ]
    },
    {
     "data": {
      "image/png": "[encoded data removed]",
      "text/plain": [
       "<Figure size 864x288 with 2 Axes>"
      ]
     },
     "metadata": {
      "needs_background": "light"
     },
     "output_type": "display_data"
    }
   ],
   "source": [
    "plot_prob_score_from_model(event=10, model=DL1_model)\n"
   ]
  },
  {
   "cell_type": "code",
   "execution_count": 6,
   "metadata": {},
   "outputs": [
    {
     "name": "stdout",
     "output_type": "stream",
     "text": [
      "true label:  [1. 0. 0.]\n",
      "softmax prob:  tf.Tensor([0.62578064 0.31801042 0.05620888], shape=(3,), dtype=float32)\n"
     ]
    },
    {
     "data": {
      "image/png": "[encoded data removed]",
      "text/plain": [
       "<Figure size 864x288 with 2 Axes>"
      ]
     },
     "metadata": {
      "needs_background": "light"
     },
     "output_type": "display_data"
    }
   ],
   "source": [
    "plot_prob_score_from_model(event=10, model=DL1_half_dropout_rate)"
   ]
  },
  {
   "cell_type": "code",
   "execution_count": 7,
   "metadata": {
    "scrolled": true
   },
   "outputs": [
    {
     "data": {
      "image/png": "[encoded data removed]",
      "text/plain": [
       "<Figure size 864x288 with 2 Axes>"
      ]
     },
     "metadata": {
      "needs_background": "light"
     },
     "output_type": "display_data"
    }
   ],
   "source": [
    "event = 10\n",
    "Pred_prob = DL1_half_dropout_rate(np.array(10000*[X_test[event,:]]))\n",
    "\n",
    "pb = Pred_prob[:,2].numpy()\n",
    "pc = Pred_prob[:,1].numpy()\n",
    "pl = Pred_prob[:,0].numpy()\n",
    "\n",
    "pb_filter = pb>0.1\n",
    "pb = pb[pb_filter]\n",
    "pc = pc[pb_filter]\n",
    "pl = pl[pb_filter]\n",
    "\n",
    "def plot_prob_score(pb, pc, pl, DL1_socre):\n",
    "    fig, (ax1, ax2) = plt.subplots(1, 2, figsize=(12, 4))\n",
    "    _n, bins, _ = ax1.hist(pb, bins=50, range=(0,1), alpha=0.5, label=\"p_b\")\n",
    "    _ = ax1.hist(pc, bins=bins, alpha=0.5, label=\"p_c\")\n",
    "    _ = ax1.hist(pl, bins=bins, alpha=0.5, label=\"p_l\")\n",
    "    ax1.legend(loc=\"upper right\")\n",
    "    \n",
    "    _ =ax2.hist(DL1_socre(pb, pc, pl), 100, alpha=0.6)\n",
    "    \n",
    "plot_prob_score(pb, pc, pl, DL1_socre)"
   ]
  },
  {
   "cell_type": "code",
   "execution_count": 9,
   "metadata": {},
   "outputs": [
    {
     "data": {
      "image/png": "[encoded data removed]",
      "text/plain": [
       "<Figure size 864x288 with 2 Axes>"
      ]
     },
     "metadata": {
      "needs_background": "light"
     },
     "output_type": "display_data"
    }
   ],
   "source": [
    "dl1_score = DL1_socre(pb, pc, pl)\n",
    "pb_filter = dl1_score>0.0\n",
    "pb = pb[pb_filter]\n",
    "pc = pc[pb_filter]\n",
    "pl = pl[pb_filter]\n",
    "\n",
    "plot_prob_score(pb, pc, pl, DL1_socre)"
   ]
  },
  {
   "cell_type": "code",
   "execution_count": 10,
   "metadata": {},
   "outputs": [
    {
     "name": "stdout",
     "output_type": "stream",
     "text": [
      "[0.36675128 0.36675128 0.36675128 0.36675128 0.36675128 0.36675128\n",
      " 0.36675128 0.36675128 0.36675128 0.36675128 0.36675128 0.36675128\n",
      " 0.36675128 0.36675128 0.36675128 0.36675128]\n"
     ]
    }
   ],
   "source": [
    "print(pb)"
   ]
  },
  {
   "cell_type": "markdown",
   "metadata": {},
   "source": [
    "## train with small dropout rate \n",
    "\n",
    "* train with small dropout rate, and use 2X dropout rate for testing"
   ]
  },
  {
   "cell_type": "code",
   "execution_count": 17,
   "metadata": {},
   "outputs": [
    {
     "name": "stdout",
     "output_type": "stream",
     "text": [
      "Model: \"model\"\n",
      "_________________________________________________________________\n",
      "Layer (type)                 Output Shape              Param #   \n",
      "=================================================================\n",
      "inputs (InputLayer)          [(None, 44)]              0         \n",
      "_________________________________________________________________\n",
      "dense0 (Dense)               (None, 72)                3240      \n",
      "_________________________________________________________________\n",
      "BN0 (BatchNormalization)     (None, 72)                288       \n",
      "_________________________________________________________________\n",
      "activ0 (Activation)          (None, 72)                0         \n",
      "_________________________________________________________________\n",
      "drop0 (Dropout)              (None, 72)                0         \n",
      "_________________________________________________________________\n",
      "dense1 (Dense)               (None, 57)                4161      \n",
      "_________________________________________________________________\n",
      "BN1 (BatchNormalization)     (None, 57)                228       \n",
      "_________________________________________________________________\n",
      "activ1 (Activation)          (None, 57)                0         \n",
      "_________________________________________________________________\n",
      "drop1 (Dropout)              (None, 57)                0         \n",
      "_________________________________________________________________\n",
      "dense2 (Dense)               (None, 60)                3480      \n",
      "_________________________________________________________________\n",
      "BN2 (BatchNormalization)     (None, 60)                240       \n",
      "_________________________________________________________________\n",
      "activ2 (Activation)          (None, 60)                0         \n",
      "_________________________________________________________________\n",
      "drop2 (Dropout)              (None, 60)                0         \n",
      "_________________________________________________________________\n",
      "dense3 (Dense)               (None, 48)                2928      \n",
      "_________________________________________________________________\n",
      "BN3 (BatchNormalization)     (None, 48)                192       \n",
      "_________________________________________________________________\n",
      "activ3 (Activation)          (None, 48)                0         \n",
      "_________________________________________________________________\n",
      "drop3 (Dropout)              (None, 48)                0         \n",
      "_________________________________________________________________\n",
      "dense4 (Dense)               (None, 36)                1764      \n",
      "_________________________________________________________________\n",
      "BN4 (BatchNormalization)     (None, 36)                144       \n",
      "_________________________________________________________________\n",
      "activ4 (Activation)          (None, 36)                0         \n",
      "_________________________________________________________________\n",
      "drop4 (Dropout)              (None, 36)                0         \n",
      "_________________________________________________________________\n",
      "dense5 (Dense)               (None, 24)                888       \n",
      "_________________________________________________________________\n",
      "BN5 (BatchNormalization)     (None, 24)                96        \n",
      "_________________________________________________________________\n",
      "activ5 (Activation)          (None, 24)                0         \n",
      "_________________________________________________________________\n",
      "drop5 (Dropout)              (None, 24)                0         \n",
      "_________________________________________________________________\n",
      "dense6 (Dense)               (None, 12)                300       \n",
      "_________________________________________________________________\n",
      "BN6 (BatchNormalization)     (None, 12)                48        \n",
      "_________________________________________________________________\n",
      "activ6 (Activation)          (None, 12)                0         \n",
      "_________________________________________________________________\n",
      "drop6 (Dropout)              (None, 12)                0         \n",
      "_________________________________________________________________\n",
      "dense7 (Dense)               (None, 6)                 78        \n",
      "_________________________________________________________________\n",
      "BN7 (BatchNormalization)     (None, 6)                 24        \n",
      "_________________________________________________________________\n",
      "activ7 (Activation)          (None, 6)                 0         \n",
      "_________________________________________________________________\n",
      "drop7 (Dropout)              (None, 6)                 0         \n",
      "_________________________________________________________________\n",
      "outputs (Dense)              (None, 3)                 21        \n",
      "=================================================================\n",
      "Total params: 18,120\n",
      "Trainable params: 17,490\n",
      "Non-trainable params: 630\n",
      "_________________________________________________________________\n"
     ]
    }
   ],
   "source": [
    "DL1_model = tf.keras.models.load_model(\"DL1_tutorial_on_kaggle_halfDropoutRate.h5\")\n",
    "DL1_model.summary()\n",
    "\n",
    "DL1_2X_dropout_rate = tf.keras.models.load_model(\"DL1_tutorial_on_kaggle_halfDropoutRate.h5\")\n",
    "dropout_layers = ['drop%s'%i for i in range(2,8)]\n",
    "\n",
    "for layer in DL1_2X_dropout_rate.layers:\n",
    "    \n",
    "    if layer.name == 'drop1':\n",
    "        layer.rate = 0.5*layer.rate\n",
    "    elif layer.name in dropout_layers:\n",
    "        layer.rate = 0.5*layer.rate"
   ]
  },
  {
   "cell_type": "code",
   "execution_count": 18,
   "metadata": {},
   "outputs": [
    {
     "name": "stdout",
     "output_type": "stream",
     "text": [
      "true label:  [1. 0. 0.]\n",
      "softmax prob:  tf.Tensor([0.76381326 0.22393642 0.01225032], shape=(3,), dtype=float32)\n"
     ]
    },
    {
     "data": {
      "image/png": "[encoded data removed]",
      "text/plain": [
       "<Figure size 864x288 with 2 Axes>"
      ]
     },
     "metadata": {
      "needs_background": "light"
     },
     "output_type": "display_data"
    }
   ],
   "source": [
    "plot_prob_score_from_model(event=10, model=DL1_model)"
   ]
  },
  {
   "cell_type": "code",
   "execution_count": 19,
   "metadata": {},
   "outputs": [
    {
     "name": "stdout",
     "output_type": "stream",
     "text": [
      "true label:  [1. 0. 0.]\n",
      "softmax prob:  tf.Tensor([0.76511943 0.22288123 0.01199932], shape=(3,), dtype=float32)\n"
     ]
    },
    {
     "data": {
      "image/png": "[encoded data removed]",
      "text/plain": [
       "<Figure size 864x288 with 2 Axes>"
      ]
     },
     "metadata": {
      "needs_background": "light"
     },
     "output_type": "display_data"
    }
   ],
   "source": [
    "plot_prob_score_from_model(event=10, model=DL1_2X_dropout_rate)"
   ]
  },
  {
   "cell_type": "code",
   "execution_count": null,
   "metadata": {},
   "outputs": [],
   "source": []
  }
 ],
 "metadata": {
  "kernelspec": {
   "display_name": "Python 3",
   "language": "python",
   "name": "python3"
  },
  "language_info": {
   "codemirror_mode": {
    "name": "ipython",
    "version": 3
   },
   "file_extension": ".py",
   "mimetype": "text/x-python",
   "name": "python",
   "nbconvert_exporter": "python",
   "pygments_lexer": "ipython3",
   "version": "3.8.5"
  }
 },
 "nbformat": 4,
 "nbformat_minor": 4
}
