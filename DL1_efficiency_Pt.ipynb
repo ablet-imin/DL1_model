{
 "cells": [
  {
   "cell_type": "code",
   "execution_count": 1,
   "metadata": {},
   "outputs": [],
   "source": [
    "import numpy as np\n",
    "\n",
    "import tensorflow as tf\n",
    "import tensorflow.keras as keras\n",
    "import tensorflow_addons as tfa\n",
    "#from keras.layers.core import MaxoutDense\n",
    "from models.maxout_layers import Maxout1D\n",
    "\n",
    "#dropout_enable = False\n",
    "\n",
    "#model_file = \"DL1_AntiKt4EMTopo_dropout\" if dropout_enable else \"DL1_AntiKt4EMTopo\"\n",
    "import models.rebuild_DL1 as DL1\n",
    "from util import DL1_score, plot_prob_score, plot_prob_score_from_model, get_mean_score\n",
    "\n",
    "import h5py\n",
    "\n",
    "#model = tf.keras.models.load_model(\"DL1_AntiKt4EMTopo\")\n",
    "#model_dropout = tf.keras.models.load_model(\"DL1_AntiKt4EMTopo_dropout\")\n",
    "#test_model.summary()\n",
    "\n",
    "#filename.root:Tdirectory/directory/obj\n",
    "File_path=\"BTagCalibRUN2-08-40.root:DL1/AntiKt4EMTopo/net_configuration\"\n",
    "\n",
    "DL1_struct = DL1.get_net_struct(File_path)\n",
    "DL1_weights = DL1_struct['layers']\n",
    "\n",
    "#DL1_layers = [ 72, 57, 60, 48, 36,24, 12, 6]\n",
    "DL1_dropouts = [0.1, 0.2, 0.2, 0.2, 0.2, 0.2, 0.2, 0.2]\n",
    "\n",
    "#findout input size, and weight matrix for each layer.\n",
    "#create corresponding tensorflow layers and store them in a list.\n",
    "features, dl1_layers, dl1_weights = DL1.pars_layers(DL1_struct['layers'])\n",
    "\n",
    "model = DL1.get_DL1(features , dl1_layers, drops=None )\n",
    "model_dropout = DL1.get_DL1(features , dl1_layers, drops=DL1_dropouts )\n",
    "#model.summary()\n",
    "DL1.set_dl1_weights(model=model, weights=dl1_weights)\n",
    "DL1.set_dl1_weights(model=model_dropout, weights=dl1_weights)\n",
    "\n",
    "\n",
    "#get test dataset\n",
    "hf = h5py.File(\"/Users/abletimin/cernbox/b-tagg/MC16_ttbar-test-even-bjets.h5\", 'r')\n",
    "X_test, Y_test = hf['X_test'][:100000], hf['Y_test'][:100000]\n",
    "hf.close()\n",
    "\n"
   ]
  },
  {
   "cell_type": "code",
   "execution_count": 2,
   "metadata": {},
   "outputs": [
    {
     "name": "stderr",
     "output_type": "stream",
     "text": [
      "/Users/abletimin/work/ATLAS/b-tagg/DL1_model/util/tools.py:19: RuntimeWarning: overflow encountered in log\n",
      "  return np.log(pb/(0.08*pc + 0.92*pl))\n"
     ]
    }
   ],
   "source": [
    "re_dropout = model_dropout(np.array(10000*[X_test[9]]), training=False).numpy()\n",
    "mean_score = get_mean_score(X_test, model_dropout)\n",
    "\n",
    "#no dropout\n",
    "re = model(X_test, training=False).numpy()\n",
    "score = DL1_score(re[:,2],re[:,1], re[:,0])\n"
   ]
  },
  {
   "cell_type": "code",
   "execution_count": 3,
   "metadata": {},
   "outputs": [],
   "source": [
    "def efficiency_hist(test_data, model, Nbins=20):\n",
    "    '''\n",
    "    efficiency_hist(test_data, model, Nbins=20)\n",
    "    calculate tagged efficiancy.\n",
    "    arg:\n",
    "        test_data - collection of jet features as inputs.\n",
    "        model - trained model, dropout enabled for test.\n",
    "        Nbins - number of bins for binning.\n",
    "        \n",
    "    return: numpy array.\n",
    "        Each element of the array is a number of jets in that bin\n",
    "    '''\n",
    "    _jetPt, _bins = np.histogram(X_test[:,1], Nbins)\n",
    "    _re = model(test_data, training=False).numpy()\n",
    "    _score = DL1_score(_re[:,2],_re[:,1], _re[:,0])\n",
    "    #btagging\n",
    "    _Htagged_jetPt, _ = np.histogram( test_data[(_score>1.45)][:,1], bins=_bins)\n",
    "    \n",
    "    return _Htagged_jetPt/_jetPt #efficiency\n",
    "\n",
    "def efficiecy_mean_std(test_data, model, N_forward=100, Nbins=20):\n",
    "    '''\n",
    "    mean and std of efficiencies. Efficiency histogram is calculated K times using\n",
    "    a MC dropout enabled model.\n",
    "    efficiecy_mean_std(test_data, model, N_forward)\n",
    "    arg:\n",
    "       test_data - collection of jet features as inputs.\n",
    "       model - trained model, dropout enabled for test. \n",
    "       N_forward - number evaluation with CM dropout.\n",
    "       Nbins - number of bins for binning.\n",
    "       \n",
    "    return: mean, std\n",
    "            mean - numpy array, content of each bin.\n",
    "            std - numpy array, std of each bin.\n",
    "    '''\n",
    "    _hist_effs = []\n",
    "    for i in range(0, N_forward):\n",
    "        _hist_effs.append(efficiency_hist(test_data, model, Nbins=Nbins) )\n",
    "    \n",
    "    return np.mean(_hist_effs, axis=0).flatten(), np.std(_hist_effs, axis=0).flatten()\n",
    "            "
   ]
  },
  {
   "cell_type": "code",
   "execution_count": 4,
   "metadata": {},
   "outputs": [
    {
     "name": "stderr",
     "output_type": "stream",
     "text": [
      "<ipython-input-3-2b8c198ebf7b>:19: RuntimeWarning: invalid value encountered in true_divide\n",
      "  return _Htagged_jetPt/_jetPt #efficiency\n"
     ]
    }
   ],
   "source": [
    "Hpretag_jetPt, bins = np.histogram(X_test[:,1], 10)\n",
    "Hbtag_jetPt, _ = np.histogram( X_test[(score>1.45)][:,1], bins=bins)\n",
    "\n",
    "btagg_efficiency, eff_errors  = efficiecy_mean_std(X_test, model_dropout, N_forward=100, Nbins=10)"
   ]
  },
  {
   "cell_type": "code",
   "execution_count": 5,
   "metadata": {},
   "outputs": [
    {
     "name": "stderr",
     "output_type": "stream",
     "text": [
      "<ipython-input-5-d3349b51575e>:4: RuntimeWarning: invalid value encountered in true_divide\n",
      "  plt.plot(bins[:-1], Hbtag_jetPt/Hpretag_jetPt,'-',color=\"red\")\n"
     ]
    },
    {
     "data": {
      "text/plain": [
       "<matplotlib.collections.PolyCollection at 0x7fcb772b9640>"
      ]
     },
     "execution_count": 5,
     "metadata": {},
     "output_type": "execute_result"
    },
    {
     "data": {
      "image/png": "[encoded data removed]",
      "text/plain": [
       "<Figure size 432x288 with 1 Axes>"
      ]
     },
     "metadata": {
      "needs_background": "light"
     },
     "output_type": "display_data"
    }
   ],
   "source": [
    "import matplotlib\n",
    "import matplotlib.pyplot as plt\n",
    "\n",
    "plt.plot(bins[:-1], Hbtag_jetPt/Hpretag_jetPt,'-',color=\"red\")\n",
    "plt.plot(bins[:-1], btagg_efficiency,'-',color=\"gray\", alpha=0.8)\n",
    "plt.fill_between(bins[:-1], btagg_efficiency- eff_errors,  btagg_efficiency+eff_errors, color=\"gray\", alpha=0.6)"
   ]
  },
  {
   "cell_type": "code",
   "execution_count": null,
   "metadata": {},
   "outputs": [],
   "source": []
  },
  {
   "cell_type": "code",
   "execution_count": null,
   "metadata": {},
   "outputs": [],
   "source": []
  }
 ],
 "metadata": {
  "kernelspec": {
   "display_name": "Python 3",
   "language": "python",
   "name": "python3"
  },
  "language_info": {
   "codemirror_mode": {
    "name": "ipython",
    "version": 3
   },
   "file_extension": ".py",
   "mimetype": "text/x-python",
   "name": "python",
   "nbconvert_exporter": "python",
   "pygments_lexer": "ipython3",
   "version": "3.8.5"
  }
 },
 "nbformat": 4,
 "nbformat_minor": 4
}
