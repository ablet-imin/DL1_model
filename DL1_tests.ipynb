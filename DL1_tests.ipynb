{
 "cells": [
  {
   "cell_type": "code",
   "execution_count": 15,
   "metadata": {},
   "outputs": [],
   "source": [
    "import numpy as np\n",
    "\n",
    "import tensorflow as tf\n",
    "import tensorflow.keras as keras\n",
    "import tensorflow_addons as tfa\n",
    "#from keras.layers.core import MaxoutDense\n",
    "from models.maxout_layers import Maxout1D\n",
    "\n",
    "#dropout_enable = False\n",
    "\n",
    "#model_file = \"DL1_AntiKt4EMTopo_dropout\" if dropout_enable else \"DL1_AntiKt4EMTopo\"\n",
    "\n",
    "model = tf.keras.models.load_model(\"DL1_AntiKt4EMTopo\")\n",
    "model_dropout = tf.keras.models.load_model(\"DL1_AntiKt4EMTopo_dropout\")\n",
    "#test_model.summary()\n",
    "\n",
    "import h5py\n",
    "#get test dataset\n",
    "hf = h5py.File(\"../FTAGUQ/input/MC16_ttbar-test-ujets.h5\", 'r')\n",
    "X_test, Y_test = hf['X_test'][:], hf['Y_test'][:]\n",
    "hf.close()"
   ]
  },
  {
   "cell_type": "markdown",
   "metadata": {},
   "source": [
    " ## test two models \n",
    " \n",
    "1. with drop out.\n",
    "2. without dropout."
   ]
  },
  {
   "cell_type": "code",
   "execution_count": 29,
   "metadata": {},
   "outputs": [],
   "source": [
    "re_dropout = model_dropout(np.array(10000*[X_test[9]]), training=False)\n",
    "\n",
    "#no dropout\n",
    "re = model(X_test, training=False)"
   ]
  },
  {
   "cell_type": "code",
   "execution_count": 34,
   "metadata": {},
   "outputs": [
    {
     "data": {
      "image/png": "[encoded data removed]",
      "text/plain": [
       "<Figure size 432x288 with 1 Axes>"
      ]
     },
     "metadata": {
      "needs_background": "light"
     },
     "output_type": "display_data"
    }
   ],
   "source": [
    "import matplotlib\n",
    "import matplotlib.pyplot as plt\n",
    "fig, ax = plt.subplots()\n",
    "# the histogram of the data\n",
    "n, bins, patches = ax.hist(re_dropout.numpy()[:,0], 100,range=(0.98,1.0), alpha=0.7)\n",
    "#n, bins, patches =ax.hist(re.numpy()[:,0],100, alpha=0.3, color='red')"
   ]
  },
  {
   "cell_type": "code",
   "execution_count": 35,
   "metadata": {},
   "outputs": [],
   "source": [
    "def DL1_socre(softmax_prob): \n",
    "    return np.log(softmax_prob[:,2]/(0.08*softmax_prob[:,1] + 0.92*softmax_prob[:,0]))  "
   ]
  },
  {
   "cell_type": "code",
   "execution_count": 36,
   "metadata": {},
   "outputs": [
    {
     "data": {
      "image/png": "[encoded data removed]",
      "text/plain": [
       "<Figure size 432x288 with 1 Axes>"
      ]
     },
     "metadata": {
      "needs_background": "light"
     },
     "output_type": "display_data"
    }
   ],
   "source": [
    "_ =plt.hist(DL1_socre(re_dropout.numpy()), 200,  density=True, alpha=0.6)"
   ]
  },
  {
   "cell_type": "code",
   "execution_count": 20,
   "metadata": {},
   "outputs": [
    {
     "data": {
      "text/plain": [
       "0.00914"
      ]
     },
     "execution_count": 20,
     "metadata": {},
     "output_type": "execute_result"
    }
   ],
   "source": [
    "np.sum(DL1_socre(re.numpy())>1.45)/len(re.numpy()[:,0])"
   ]
  },
  {
   "cell_type": "code",
   "execution_count": 21,
   "metadata": {},
   "outputs": [
    {
     "data": {
      "text/plain": [
       "array([-23.851442, -23.085033, -24.327097, ..., -22.967031, -23.655523,\n",
       "       -23.32101 ], dtype=float32)"
      ]
     },
     "execution_count": 21,
     "metadata": {},
     "output_type": "execute_result"
    }
   ],
   "source": [
    "DL1_socre(re.numpy())"
   ]
  },
  {
   "cell_type": "code",
   "execution_count": null,
   "metadata": {},
   "outputs": [],
   "source": []
  }
 ],
 "metadata": {
  "kernelspec": {
   "display_name": "Python 3",
   "language": "python",
   "name": "python3"
  },
  "language_info": {
   "codemirror_mode": {
    "name": "ipython",
    "version": 3
   },
   "file_extension": ".py",
   "mimetype": "text/x-python",
   "name": "python",
   "nbconvert_exporter": "python",
   "pygments_lexer": "ipython3",
   "version": "3.8.5"
  }
 },
 "nbformat": 4,
 "nbformat_minor": 4
}
