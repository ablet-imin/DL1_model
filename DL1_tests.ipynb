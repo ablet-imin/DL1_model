{
 "cells": [
  {
   "cell_type": "code",
   "execution_count": 1,
   "metadata": {},
   "outputs": [
    {
     "name": "stdout",
     "output_type": "stream",
     "text": [
      "Model: \"model\"\n",
      "_________________________________________________________________\n",
      "Layer (type)                 Output Shape              Param #   \n",
      "=================================================================\n",
      "input (InputLayer)           [(None, 41)]              0         \n",
      "_________________________________________________________________\n",
      "maxout0 (Maxout1D)           (None, 72)                75600     \n",
      "_________________________________________________________________\n",
      "activ0 (Activation)          (None, 72)                0         \n",
      "_________________________________________________________________\n",
      "BN1 (Normalization)          (None, 72)                5256      \n",
      "_________________________________________________________________\n",
      "dense2 (Dense)               (None, 57)                4161      \n",
      "_________________________________________________________________\n",
      "BN3 (Normalization)          (None, 57)                3306      \n",
      "_________________________________________________________________\n",
      "dense4 (Dense)               (None, 60)                3480      \n",
      "_________________________________________________________________\n",
      "BN5 (Normalization)          (None, 60)                3660      \n",
      "_________________________________________________________________\n",
      "dense6 (Dense)               (None, 48)                2928      \n",
      "_________________________________________________________________\n",
      "BN7 (Normalization)          (None, 48)                2352      \n",
      "_________________________________________________________________\n",
      "dense8 (Dense)               (None, 36)                1764      \n",
      "_________________________________________________________________\n",
      "BN9 (Normalization)          (None, 36)                1332      \n",
      "_________________________________________________________________\n",
      "maxout10 (Maxout1D)          (None, 24)                22200     \n",
      "_________________________________________________________________\n",
      "activ10 (Activation)         (None, 24)                0         \n",
      "_________________________________________________________________\n",
      "BN11 (Normalization)         (None, 24)                600       \n",
      "_________________________________________________________________\n",
      "dense12 (Dense)              (None, 12)                300       \n",
      "_________________________________________________________________\n",
      "BN13 (Normalization)         (None, 12)                156       \n",
      "_________________________________________________________________\n",
      "dense14 (Dense)              (None, 6)                 78        \n",
      "_________________________________________________________________\n",
      "BN15 (Normalization)         (None, 6)                 42        \n",
      "_________________________________________________________________\n",
      "dense16 (Dense)              (None, 3)                 21        \n",
      "=================================================================\n",
      "Total params: 127,236\n",
      "Trainable params: 127,236\n",
      "Non-trainable params: 0\n",
      "_________________________________________________________________\n"
     ]
    }
   ],
   "source": [
    "import numpy as np\n",
    "\n",
    "import tensorflow as tf\n",
    "import tensorflow.keras as keras\n",
    "import tensorflow_addons as tfa\n",
    "#from keras.layers.core import MaxoutDense\n",
    "from models.maxout_layers import Maxout1D\n",
    "\n",
    "#dropout_enable = False\n",
    "\n",
    "#model_file = \"DL1_AntiKt4EMTopo_dropout\" if dropout_enable else \"DL1_AntiKt4EMTopo\"\n",
    "import models.rebuild_DL1 as DL1\n",
    "from util import DL1_score\n",
    "\n",
    "#model = tf.keras.models.load_model(\"DL1_AntiKt4EMTopo\")\n",
    "#model_dropout = tf.keras.models.load_model(\"DL1_AntiKt4EMTopo_dropout\")\n",
    "#test_model.summary()\n",
    "\n",
    "#filename.root:Tdirectory/directory/obj\n",
    "File_path=\"BTagCalibRUN2-08-40.root:DL1/AntiKt4EMTopo/net_configuration\"\n",
    "\n",
    "DL1_struct = DL1.get_net_struct(File_path)\n",
    "DL1_weights = DL1_struct['layers']\n",
    "\n",
    "#DL1_layers = [ 72, 57, 60, 48, 36,24, 12, 6]\n",
    "DL1_dropouts = [0.1, 0.2, 0.2, 0.2, 0.2, 0.2, 0.2, 0.2]\n",
    "\n",
    "#findout input size, and weight matrix for each layer.\n",
    "#create corresponding tensorflow layers and store them in a list.\n",
    "features, dl1_layers, dl1_weights = DL1.pars_layers(DL1_struct['layers'])\n",
    "\n",
    "model = DL1.get_DL1(features , dl1_layers, drops=None )\n",
    "model_dropout = DL1.get_DL1(features , dl1_layers, drops=DL1_dropouts )\n",
    "model.summary()\n",
    "DL1.set_dl1_weights(model=model, weights=dl1_weights)\n",
    "DL1.set_dl1_weights(model=model_dropout, weights=dl1_weights)\n",
    "\n",
    "import h5py\n",
    "#get test dataset\n",
    "hf = h5py.File(\"/Users/abletimin/cernbox/b-tagg/MC16_ttbar-test-even-bjets.h5\", 'r')\n",
    "X_test, Y_test = hf['X_test'][:100000], hf['Y_test'][:100000]\n",
    "hf.close()\n",
    "\n",
    "#def DL1_score(pb, pc, pl): \n",
    "#    return np.log(pb/(0.08*pc + 0.92*pl))\n",
    "\n",
    "def plot_prob_score(pb, pc, pl, DL1_score, range=(0,1)):\n",
    "    fig, (ax1, ax2) = plt.subplots(1, 2, figsize=(12, 4))\n",
    "    _n, bins, _ = ax1.hist(pb, bins=50, range=range, alpha=0.5, label=\"p_b\")\n",
    "    _ = ax1.hist(pc, bins=bins, alpha=0.5, label=\"p_c\")\n",
    "    _ = ax1.hist(pl, bins=bins, alpha=0.5, label=\"p_l\")\n",
    "    ax1.legend(loc=\"upper right\")\n",
    "    \n",
    "    _ =ax2.hist(DL1_score(pb, pc, pl), 100, alpha=0.6)\n",
    "    \n"
   ]
  },
  {
   "cell_type": "markdown",
   "metadata": {},
   "source": [
    " ## test two models \n",
    " \n",
    "1. with drop out.\n",
    "2. without dropout."
   ]
  },
  {
   "cell_type": "code",
   "execution_count": 2,
   "metadata": {},
   "outputs": [],
   "source": [
    "re_dropout = model_dropout(np.array(10000*[X_test[9]]), training=False).numpy()\n",
    "\n",
    "#no dropout\n",
    "re = model(X_test, training=False).numpy()"
   ]
  },
  {
   "cell_type": "code",
   "execution_count": 3,
   "metadata": {},
   "outputs": [
    {
     "name": "stdout",
     "output_type": "stream",
     "text": [
      "score for jet 9:  4.3724794\n"
     ]
    },
    {
     "data": {
      "image/png": "[encoded data removed]",
      "text/plain": [
       "<Figure size 864x288 with 2 Axes>"
      ]
     },
     "metadata": {
      "needs_background": "light"
     },
     "output_type": "display_data"
    }
   ],
   "source": [
    "import matplotlib\n",
    "import matplotlib.pyplot as plt\n",
    "\n",
    "pb = re[:,2]\n",
    "pc = re[:,1]\n",
    "pl = re[:,0]\n",
    "\n",
    "plot_prob_score(pb, pc, pl ,DL1_score)\n",
    "\n",
    "print(\"score for jet 9: \", DL1_score(pb, pc, pl)[9])\n",
    "\n"
   ]
  },
  {
   "cell_type": "code",
   "execution_count": 5,
   "metadata": {},
   "outputs": [
    {
     "name": "stdout",
     "output_type": "stream",
     "text": [
      "mean score:  5.100392\n"
     ]
    },
    {
     "data": {
      "image/png": "[encoded data removed]",
      "text/plain": [
       "<Figure size 864x288 with 2 Axes>"
      ]
     },
     "metadata": {
      "needs_background": "light"
     },
     "output_type": "display_data"
    }
   ],
   "source": [
    "#with dropout enabled\n",
    "pb = re_dropout[:,2]\n",
    "pc = re_dropout[:,1]\n",
    "pl = re_dropout[:,0]\n",
    "\n",
    "plot_prob_score(pb, pc, pl ,DL1_score)\n",
    "print(\"mean score: \", DL1_score(pb, pc, pl).mean())"
   ]
  },
  {
   "cell_type": "code",
   "execution_count": null,
   "metadata": {},
   "outputs": [],
   "source": [
    "np.sum(DL1_score(re[:,2], re[:,1], re[:,0])>1.45)/len(re[:,0])"
   ]
  },
  {
   "cell_type": "markdown",
   "metadata": {},
   "source": [
    "## truth score VS mean score \n",
    "\n",
    "* Truth core is the DL1 b-tagging score calculated without dropout probablity disabled.  \n",
    "* Mean score for a jet is the averarage DL1 score of 10000 evaluations with dropout probablity enabled."
   ]
  },
  {
   "cell_type": "markdown",
   "metadata": {},
   "source": [
    "### truth score"
   ]
  },
  {
   "cell_type": "code",
   "execution_count": null,
   "metadata": {},
   "outputs": [],
   "source": [
    "truth_score = DL1_score(re[:,2], re[:,1], re[:,0])\n",
    "_ =plt.hist(truth_score, bins=200, alpha=0.7)\n",
    "print(\"mis-tagg rage: \",np.sum(truth_score>1.446860433)/len(re[:,0]) )"
   ]
  },
  {
   "cell_type": "markdown",
   "metadata": {},
   "source": [
    "### Mean score"
   ]
  },
  {
   "cell_type": "code",
   "execution_count": null,
   "metadata": {},
   "outputs": [],
   "source": [
    "%%time\n",
    "def get_mean_score(X_test, model):\n",
    "    def _mean_score(inputs):\n",
    "        result_prob = model(np.array(10000*[inputs]), training=False).numpy()\n",
    "        result = DL1_score(result_prob[:,2], result_prob[:,1], result_prob[:,0])\n",
    "        return result.mean(), result.std()\n",
    "\n",
    "    return np.apply_along_axis(_mean_score,1, X_test)\n",
    "    \n",
    "mean_score=get_mean_score(X_test[:100,:], model_dropout)\n"
   ]
  },
  {
   "cell_type": "code",
   "execution_count": null,
   "metadata": {},
   "outputs": [],
   "source": [
    "_ =plt.hist(mean_score[:,0], 200, alpha=0.7)\n",
    "print(\"mis-tagg rage: \",np.sum(mean_score[:,0]>1.45)/len(mean_score[:,0]) )"
   ]
  },
  {
   "cell_type": "code",
   "execution_count": null,
   "metadata": {},
   "outputs": [],
   "source": [
    "X_test.shape[0]/100*30/(60*60) #h"
   ]
  },
  {
   "cell_type": "code",
   "execution_count": null,
   "metadata": {},
   "outputs": [],
   "source": []
  }
 ],
 "metadata": {
  "kernelspec": {
   "display_name": "Python 3",
   "language": "python",
   "name": "python3"
  },
  "language_info": {
   "codemirror_mode": {
    "name": "ipython",
    "version": 3
   },
   "file_extension": ".py",
   "mimetype": "text/x-python",
   "name": "python",
   "nbconvert_exporter": "python",
   "pygments_lexer": "ipython3",
   "version": "3.8.5"
  }
 },
 "nbformat": 4,
 "nbformat_minor": 4
}
